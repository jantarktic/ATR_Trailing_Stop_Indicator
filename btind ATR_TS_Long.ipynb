{
 "cells": [
  {
   "cell_type": "code",
   "execution_count": null,
   "metadata": {},
   "outputs": [],
   "source": [
    "import backtrader as bt\n",
    "from datetime import datetime\n",
    "import backtrader.indicators as btind\n",
    "import matplotlib.pyplot as plt\n",
    "%matplotlib inline\n",
    "\n",
    "#https://help.stockopedia.com/product-guide/charts/overlays/atr-trailing-stops/\n",
    "\n",
    "class ATR_TS_Long(bt.Indicator):\n",
    "    \n",
    "    alias = ('ATR_TRAILINGSTOP',)\n",
    "    \n",
    "    lines = ('atr_ts',)\n",
    "    \n",
    "    params = (\n",
    "        ('atr_period', 14),\n",
    "        ('atr_mult', 3),\n",
    "    )\n",
    "    \n",
    "    plotinfo = dict(subplot=False,)  \n",
    "    plotlines = dict(\n",
    "        atr_ts = dict(ls = '-'), \n",
    "    )\n",
    "       \n",
    "    def __init__(self):\n",
    "        \n",
    "        self.atr = btind.ATR(self.data, period = self.params.atr_period)\n",
    "        self.bigatr = self.atr * self.p.atr_mult \n",
    "        \n",
    "        self.buysell = 1\n",
    "        self.l.atr_ts = self.data.close - self.bigatr #first calculated value is below close price therefore simulating a long position.\n",
    "        \n",
    "        btind.CrossUp(self.data.close, self.l.atr_ts)\n",
    "        btind.CrossDown(self.data.close, self.l.atr_ts)\n",
    "        \n",
    "\n",
    "        \n",
    "    def next(self):\n",
    "        \n",
    "        if self.buysell > 0: \n",
    "            self.lines.atr_ts[0] = self.data.close[0] - self.bigatr[0]\n",
    "            self.l.atr_ts[0] = max(self.l.atr_ts[-1], self.l.atr_ts[0])\n",
    "            if self.lines.atr_ts > self.data.close: \n",
    "                self.lines.atr_ts[0] = self.data.close[0] + self.bigatr[0]\n",
    "                self.buysell = -1\n",
    "\n",
    "        elif self.buysell < 0:\n",
    "            self.lines.atr_ts[0] = self.data.close[0] + self.bigatr[0]\n",
    "            self.l.atr_ts[0] = min(self.l.atr_ts[-1], self.l.atr_ts[0])\n",
    "            if self.lines.atr_ts < self.data.close:\n",
    "                self.l.atr_ts[0] = self.data.close[0] - self.bigatr[0]\n",
    "                self.buysell = 1\n",
    "\n"
   ]
  },
  {
   "cell_type": "code",
   "execution_count": null,
   "metadata": {},
   "outputs": [],
   "source": []
  }
 ],
 "metadata": {
  "kernelspec": {
   "display_name": "Python 3",
   "language": "python",
   "name": "python3"
  },
  "language_info": {
   "codemirror_mode": {
    "name": "ipython",
    "version": 3
   },
   "file_extension": ".py",
   "mimetype": "text/x-python",
   "name": "python",
   "nbconvert_exporter": "python",
   "pygments_lexer": "ipython3",
   "version": "3.7.1"
  }
 },
 "nbformat": 4,
 "nbformat_minor": 4
}
